{
 "cells": [
  {
   "cell_type": "code",
   "execution_count": 1,
   "metadata": {},
   "outputs": [],
   "source": [
    "import importlib\n",
    "import matplotlib.pyplot as plt\n",
    "import numpy as np\n",
    "import pickle\n",
    "from multiprocessing import Pool, cpu_count"
   ]
  },
  {
   "cell_type": "code",
   "execution_count": 6,
   "metadata": {},
   "outputs": [],
   "source": [
    "from utils.tree_search import Node, Queue, Stack, Tree\n",
    "import shelfsolver"
   ]
  },
  {
   "cell_type": "code",
   "execution_count": 142,
   "metadata": {},
   "outputs": [
    {
     "data": {
      "text/plain": [
       "<module 'shelfsolver' from '/home/pscl/Development/Projects/shelf-solver/shelfsolver.py'>"
      ]
     },
     "execution_count": 142,
     "metadata": {},
     "output_type": "execute_result"
    }
   ],
   "source": [
    "importlib.reload(shelfsolver)"
   ]
  },
  {
   "cell_type": "markdown",
   "metadata": {},
   "source": [
    "# Tasks"
   ]
  },
  {
   "cell_type": "markdown",
   "metadata": {},
   "source": [
    "1. Sort object so that each row has only objects of one color\n",
    "\n",
    "2a. Sort objects so that each row has all the unique colors and all the unique shapes once \n",
    "\n",
    "2b. Sort objects so that each column has all the unique colors and all the unique shapes once \n",
    "\n",
    "3a. Sort objects so that each row and column has each of the four colors once. ← this task can take longer and may have longer duration than preceding tasks \n",
    "\n",
    "3b. Sort objects so that each row and column has each of the four shapes once. ← this task can take longer and may have longer duration than preceding tasks "
   ]
  },
  {
   "cell_type": "markdown",
   "metadata": {},
   "source": [
    "## Task 1: One color per row"
   ]
  },
  {
   "cell_type": "markdown",
   "metadata": {},
   "source": [
    "### Solve single shelf"
   ]
  },
  {
   "cell_type": "code",
   "execution_count": 130,
   "metadata": {},
   "outputs": [
    {
     "name": "stdout",
     "output_type": "stream",
     "text": [
      "[[23 33 12 43  0]\n",
      " [13  0  0  0 44]\n",
      " [34  0  0 31 11]\n",
      " [24 41 14 42  0]\n",
      " [ 0 22  0 32 21]]\n"
     ]
    }
   ],
   "source": [
    "solver = shelfsolver.ShelfSolver()\n",
    "shelf = shelfsolver.ShelfGenerator().new_random_shelf()\n",
    "print(shelf)"
   ]
  },
  {
   "cell_type": "code",
   "execution_count": 136,
   "metadata": {},
   "outputs": [
    {
     "name": "stdout",
     "output_type": "stream",
     "text": [
      "Length of tree: 64\r"
     ]
    },
    {
     "data": {
      "text/plain": [
       "(array([[23,  0, 21, 22, 24],\n",
       "        [11,  0, 13, 12, 14],\n",
       "        [ 0,  0,  0,  0,  0],\n",
       "        [ 0, 44, 43, 42, 41],\n",
       "        [ 0, 31, 32, 33, 34]]),\n",
       " 8)"
      ]
     },
     "execution_count": 136,
     "metadata": {},
     "output_type": "execute_result"
    }
   ],
   "source": [
    "result = solver.solve_task(shelf, task=1, verbose=1, search_type=\"stack\")\n",
    "result"
   ]
  },
  {
   "cell_type": "markdown",
   "metadata": {},
   "source": [
    "## Task 2: Every row should contain items of unique color and shape"
   ]
  },
  {
   "cell_type": "code",
   "execution_count": 149,
   "metadata": {},
   "outputs": [
    {
     "name": "stdout",
     "output_type": "stream",
     "text": [
      "[[42 22  0  0 44]\n",
      " [43 41 14  0  0]\n",
      " [12  0 33  0 24]\n",
      " [11 32 21  0  0]\n",
      " [ 0 23 31 13 34]]\n"
     ]
    }
   ],
   "source": [
    "solver = shelfsolver.ShelfSolver()\n",
    "shelf = shelfsolver.ShelfGenerator().new_random_shelf()\n",
    "print(shelf)"
   ]
  },
  {
   "cell_type": "code",
   "execution_count": 150,
   "metadata": {},
   "outputs": [
    {
     "name": "stdout",
     "output_type": "stream",
     "text": [
      "Current score: 52 | Depth: 7 | Length of tree: 23\n",
      "Solution found!\n"
     ]
    },
    {
     "data": {
      "text/plain": [
       "(array([[ 0,  0,  0,  0,  0],\n",
       "        [43, 31, 14, 22,  0],\n",
       "        [12, 41, 33,  0, 24],\n",
       "        [11, 32, 23, 44,  0],\n",
       "        [21, 42,  0, 13, 34]]),\n",
       " 8)"
      ]
     },
     "execution_count": 150,
     "metadata": {},
     "output_type": "execute_result"
    }
   ],
   "source": [
    "result = solver.solve_task(shelf, task=2, verbose=1, search_type=\"stack\", collect=False)\n",
    "result"
   ]
  },
  {
   "cell_type": "markdown",
   "metadata": {},
   "source": [
    "## Task 3: Each row and each column has each of the four colors once."
   ]
  },
  {
   "cell_type": "code",
   "execution_count": 143,
   "metadata": {},
   "outputs": [
    {
     "name": "stdout",
     "output_type": "stream",
     "text": [
      "[[ 0 11 44 22 13]\n",
      " [23 43  0  0 31]\n",
      " [41 33  0 14 34]\n",
      " [ 0  0  0  0  0]\n",
      " [32 42 24 12 21]]\n"
     ]
    }
   ],
   "source": [
    "solver = shelfsolver.ShelfSolver()\n",
    "shelf = shelfsolver.ShelfGenerator().new_random_shelf()\n",
    "print(shelf)"
   ]
  },
  {
   "cell_type": "code",
   "execution_count": 144,
   "metadata": {},
   "outputs": [
    {
     "name": "stdout",
     "output_type": "stream",
     "text": [
      "Current score: 47 | Depth: 10 | Length of tree: 14\n",
      "Solution found!\n"
     ]
    },
    {
     "data": {
      "text/plain": [
       "(array([[34, 11, 44, 22,  0],\n",
       "        [23, 43, 32, 12,  0],\n",
       "        [41, 21, 13, 31,  0],\n",
       "        [ 0,  0,  0,  0,  0],\n",
       "        [14, 33, 24, 42,  0]]),\n",
       " 11)"
      ]
     },
     "execution_count": 144,
     "metadata": {},
     "output_type": "execute_result"
    }
   ],
   "source": [
    "result = solver.solve_task(shelf, task=3, verbose=1, search_type=\"stack\", collect=False)\n",
    "result"
   ]
  }
 ],
 "metadata": {
  "kernelspec": {
   "display_name": "Python 3",
   "language": "python",
   "name": "python3"
  },
  "language_info": {
   "codemirror_mode": {
    "name": "ipython",
    "version": 3
   },
   "file_extension": ".py",
   "mimetype": "text/x-python",
   "name": "python",
   "nbconvert_exporter": "python",
   "pygments_lexer": "ipython3",
   "version": "3.7.5"
  }
 },
 "nbformat": 4,
 "nbformat_minor": 4
}
