{
 "cells": [
  {
   "cell_type": "code",
   "execution_count": 1,
   "metadata": {},
   "outputs": [],
   "source": [
    "import numpy as np\n",
    "from multiprocessing import Pool, cpu_count"
   ]
  },
  {
   "cell_type": "code",
   "execution_count": 2,
   "metadata": {},
   "outputs": [],
   "source": [
    "import time\n",
    "def timer(func):\n",
    "    def f(*args, **kwargs):\n",
    "        start = time.time()\n",
    "        rv = func(*args, **kwargs)\n",
    "        duration = time.time() - start\n",
    "        print(\"Function '{}' finished after {:.4f} seconds.\"\\\n",
    "              .format(func.__name__, duration))\n",
    "        return rv\n",
    "    return f"
   ]
  },
  {
   "cell_type": "code",
   "execution_count": 3,
   "metadata": {},
   "outputs": [],
   "source": [
    "class Queue(object):\n",
    "    def __init__(self):\n",
    "        self.queue = []\n",
    "         \n",
    "    def __call__(self):\n",
    "        return self.queue\n",
    "  \n",
    "    def __len__(self):\n",
    "        return len(self.queue)\n",
    "    \n",
    "    def enqueue(self, item):\n",
    "        self.queue.append(item)\n",
    "        \n",
    "    def dequeue(self):\n",
    "        return self.queue.pop(0)\n",
    "\n",
    "    def is_not_empty(self):\n",
    "        return bool(self.queue)\n",
    "\n",
    "class Node:\n",
    "    def __init__(self, state, parent=None, children=None):\n",
    "        self.state = state\n",
    "        self.parent = parent\n",
    "        if self.parent:\n",
    "            self.depth = parent.depth + 1\n",
    "        else:\n",
    "            self.depth = 0\n",
    "        self.children = children"
   ]
  },
  {
   "cell_type": "code",
   "execution_count": 55,
   "metadata": {},
   "outputs": [],
   "source": [
    "class ShelfSolver:\n",
    "    def __init__(self, shelf_size=(5,5), n_shapes=4, n_colors=4, random_seed=None):\n",
    "        self.shelf_size = shelf_size\n",
    "        self.n_shapes = n_shapes\n",
    "        self.n_colors = n_colors\n",
    "        self.random_seed = random_seed\n",
    "        self.visited_states = []\n",
    "    \n",
    "    def new_random_shelf(self, seeded=False):\n",
    "        ''' Return a new random shelf matrix '''\n",
    "        # Create indices\n",
    "        if seeded: np.random.seed(self.random_seed)\n",
    "        indices = np.random.choice(\n",
    "            self.shelf_size[0]*self.shelf_size[1], \n",
    "            size = self.n_shapes*self.n_colors,\n",
    "            replace=False)\n",
    "        # Create empty shelf\n",
    "        shelf = np.zeros(self.shelf_size[0]*self.shelf_size[1])\n",
    "        # Create objects\n",
    "        objects = np.array([i+j for j in np.arange(10,(self.n_colors+1)*10,10) \\\n",
    "                   for i in np.arange(1,self.n_shapes+1,1)])\n",
    "        # Populate shelf with objects and reshape\n",
    "        shelf[indices] = objects\n",
    "        shelf = shelf.reshape(self.shelf_size)\n",
    "        shelf = np.asarray(shelf, dtype=int)\n",
    "        #shelf = np.asarray(shelf, dtype=str)\n",
    "        return shelf\n",
    "    \n",
    "    def assign_bases(self, shelf):\n",
    "        base_ids = dict()\n",
    "        for idx, row in enumerate(shelf):\n",
    "            color_counts = self.count_colors_in_row(row)\n",
    "            highest_color_counts = np.argwhere(\n",
    "                color_counts == np.max(color_counts))\n",
    "            if highest_color_counts.shape[0] == 1:\n",
    "                base_ids[idx] = highest_color_counts[0,0]+1\n",
    "            elif highest_color_counts.shape[0] > 1:\n",
    "                base_ids[idx] = None\n",
    "                \n",
    "        # For the leftover colors assign them randomly\n",
    "        leftover_row_ids = np.argwhere(np.array(list(base_ids.values()))==None)\n",
    "        leftover_row_ids = [ri[0] for ri in leftover_row_ids] \n",
    "        leftover_colors = [color for color in range(1, self.n_colors+1) if color not in list(base_ids.values())]\n",
    "        assign_ids = np.random.choice(a=leftover_row_ids, size=len(leftover_colors), replace=False)\n",
    "        for i in range(len(leftover_colors)):\n",
    "            base_ids[assign_ids[i]] = leftover_colors[i]\n",
    "    \n",
    "        return base_ids\n",
    "    \n",
    "    def count_colors_in_row(self, row):\n",
    "        colors_instances = np.zeros(self.n_colors)\n",
    "        for ob in row:\n",
    "            if ob != 0:\n",
    "                color = self.get_color(ob)\n",
    "                colors_instances[color-1] += 1\n",
    "        return colors_instances\n",
    "    \n",
    "    def most_prominent_color_per_row(self):\n",
    "        pass\n",
    "    \n",
    "    def is_in_correct_base(self, item, base_ids, row_idx):\n",
    "        return (base_ids[row_idx] == self.get_color(item))\n",
    "    \n",
    "    def move_object(self, shelf, obj, old_position, new_position):\n",
    "        new_shelf = shelf.copy()\n",
    "        new_shelf[old_position] = 0\n",
    "        new_shelf[new_position] = obj\n",
    "        return new_shelf\n",
    "    \n",
    "    def is_final_state(self, base_ids, shelf_state):\n",
    "        is_final_state = np.ones(shelf_state.shape, dtype=bool)\n",
    "        for row_idx, row in enumerate(shelf_state):\n",
    "            for col_idx, item in enumerate(row):\n",
    "                if item != 0:\n",
    "                    is_final_state[row_idx,col_idx] = \\\n",
    "                       self.is_in_correct_base(item, base_ids, row_idx)\n",
    "                else:\n",
    "                    continue\n",
    "        return is_final_state.all() # all must be True\n",
    "    \n",
    "    def has_been_visited(self, shelf_state):\n",
    "        return hash(str(shelf_state)) in self.visited_states\n",
    "    \n",
    "    @timer\n",
    "    def solve(self, shelf, base_ids, verbose=0):\n",
    "        \n",
    "        # Measure elapsed time\n",
    "        _start = time.time()\n",
    "        \n",
    "        # Enqueue start state\n",
    "        root_node = Node(shelf)\n",
    "        queue = Queue()\n",
    "        queue.enqueue(root_node)\n",
    "        \n",
    "        # Collect depths of all correct children\n",
    "        final_states = []\n",
    "        collected_depths = []\n",
    "        \n",
    "        # Iterate through queue\n",
    "        while queue.is_not_empty():\n",
    "            \n",
    "            node = queue.dequeue()\n",
    "            if self.is_final_state(base_ids, node.state):\n",
    "                final_states.append(node.state)\n",
    "                collected_depths.append(node.depth)\n",
    "                continue\n",
    "                #return final_states, collected_depths\n",
    "            \n",
    "            # Create children of node and enqueue them\n",
    "            # by iterating through items\n",
    "            for i in range(self.shelf_size[0]): # iterate thru row\n",
    "                for j in range(self.shelf_size[1]): # iterate thru col\n",
    "                    \n",
    "                    item = node.state[i,j]\n",
    "                    if verbose: print(\"\\nCurrent item:\", item, \"at position\", (i,j))\n",
    "                    if item == 0:\n",
    "                        if verbose: print(\"Empty space.\")\n",
    "                        continue\n",
    "                        \n",
    "                    # If object not in correct base\n",
    "                    if not self.is_in_correct_base(item, base_ids, i):\n",
    "\n",
    "                        # Find correct row\n",
    "                        correct_row = list(base_ids.values())\\\n",
    "                            .index(self.get_color(item))\n",
    "                        if verbose: print(\"Correct rowID for item {}: {}\".format(item, correct_row))\n",
    "                        \n",
    "                        # Find zeros in correct row\n",
    "                        empty_space_ids = np.argwhere(node.state[correct_row]==0)\n",
    "                        \n",
    "                        # Enqueue all states that move item into empty\n",
    "                        # space in correct row\n",
    "                        for empty_space_id in empty_space_ids:\n",
    "                            if verbose: print(\"Moving item to ({}, {})\".format(correct_row,empty_space_id[0]))\n",
    "                            new_state = self.move_object(\n",
    "                                node.state, item, (i,j), \n",
    "                                (correct_row, empty_space_id))\n",
    "                            if not self.has_been_visited(new_state):\n",
    "                                self.visited_states.append(hash(str(new_state)))\n",
    "                                child_node = Node(new_state, parent=node)\n",
    "                                if verbose: print(child_node.state)\n",
    "                                queue.enqueue(child_node)\n",
    "                        if verbose: print(\"Length of queue: \", len(queue))\n",
    "                    else:\n",
    "                        if verbose: print(\"Item is in correct base.\")\n",
    "                        continue\n",
    "            if time.time()-_start > 20:\n",
    "                print(\"More than 20 seconds elapsed, terminating with queue length of\", len(queue))\n",
    "                break\n",
    "        \n",
    "        return list(np.unique(collected_depths))\n",
    "            \n",
    "    def get_color(self, obj):\n",
    "        return obj//10\n",
    "    \n",
    "    def get_shape(self, obj):\n",
    "        return obj%10, "
   ]
  },
  {
   "cell_type": "code",
   "execution_count": 60,
   "metadata": {},
   "outputs": [
    {
     "name": "stdout",
     "output_type": "stream",
     "text": [
      "[[ 0  0 24  0 21]\n",
      " [32 43  0 41 14]\n",
      " [12 23 13 11  0]\n",
      " [ 0 22  0 33 31]\n",
      " [42 34  0  0 44]]\n",
      "{0: 2, 1: 4, 2: 1, 3: 3, 4: 4}\n"
     ]
    }
   ],
   "source": [
    "solver = ShelfSolver(shelf_size=(4,4), n_colors=3, n_shapes=3, random_seed=80)\n",
    "solver = ShelfSolver(random_seed=8)\n",
    "shelf = solver.new_random_shelf()\n",
    "base_ids = solver.assign_bases(shelf)\n",
    "print(shelf)\n",
    "print(base_ids)"
   ]
  },
  {
   "cell_type": "code",
   "execution_count": 61,
   "metadata": {
    "scrolled": false
   },
   "outputs": [
    {
     "name": "stdout",
     "output_type": "stream",
     "text": [
      "Function 'solve' finished after 0.1826 seconds.\n"
     ]
    }
   ],
   "source": [
    "collected_depths = solver.solve(shelf, base_ids, verbose=0)"
   ]
  },
  {
   "cell_type": "code",
   "execution_count": 62,
   "metadata": {},
   "outputs": [
    {
     "data": {
      "text/plain": [
       "[5]"
      ]
     },
     "execution_count": 62,
     "metadata": {},
     "output_type": "execute_result"
    }
   ],
   "source": [
    "collected_depths"
   ]
  },
  {
   "cell_type": "code",
   "execution_count": 63,
   "metadata": {},
   "outputs": [
    {
     "name": "stdout",
     "output_type": "stream",
     "text": [
      "Function 'solve' finished after 10.2840 seconds.\n",
      "More than 20 seconds elapsed, terminating with queue length of 11815\n",
      "More than 20 seconds elapsed, terminating with queue length of 9001\n",
      "Function 'solve' finished after 20.0088 seconds.\n",
      "Function 'solve' finished after 20.0098 seconds.\n"
     ]
    }
   ],
   "source": [
    "# Collect search depths\n",
    "depths = []\n",
    "solver = ShelfSolver()\n",
    "\n",
    "def thread_job(shelf):\n",
    "    base_ids = solver.assign_bases(shelf)\n",
    "    collected_depths = solver.solve(shelf=shelf, base_ids=base_ids)\n",
    "    return collected_depths\n",
    "\n",
    "iterable = [solver.new_random_shelf() for _ in range(3)]    \n",
    "pool = Pool(processes=cpu_count()-1)\n",
    "collected_depths = pool.map(thread_job, iterable)\n",
    "depths = [d[0] for d in depths if d]\n",
    "pool.close()"
   ]
  },
  {
   "cell_type": "code",
   "execution_count": 65,
   "metadata": {},
   "outputs": [
    {
     "data": {
      "text/plain": [
       "[8]"
      ]
     },
     "execution_count": 65,
     "metadata": {},
     "output_type": "execute_result"
    }
   ],
   "source": []
  },
  {
   "cell_type": "code",
   "execution_count": 50,
   "metadata": {},
   "outputs": [
    {
     "name": "stdout",
     "output_type": "stream",
     "text": [
      "0\n",
      "[]\n"
     ]
    }
   ],
   "source": [
    "print(len(depths))\n",
    "print(depths)"
   ]
  },
  {
   "cell_type": "code",
   "execution_count": null,
   "metadata": {},
   "outputs": [],
   "source": []
  }
 ],
 "metadata": {
  "kernelspec": {
   "display_name": "Python 3",
   "language": "python",
   "name": "python3"
  },
  "language_info": {
   "codemirror_mode": {
    "name": "ipython",
    "version": 3
   },
   "file_extension": ".py",
   "mimetype": "text/x-python",
   "name": "python",
   "nbconvert_exporter": "python",
   "pygments_lexer": "ipython3",
   "version": "3.7.5"
  }
 },
 "nbformat": 4,
 "nbformat_minor": 4
}
