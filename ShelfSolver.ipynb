{
 "cells": [
  {
   "cell_type": "code",
   "execution_count": 1,
   "metadata": {},
   "outputs": [],
   "source": [
    "import importlib\n",
    "import matplotlib.pyplot as plt\n",
    "import numpy as np\n",
    "import pickle\n",
    "from multiprocessing import Pool, cpu_count"
   ]
  },
  {
   "cell_type": "code",
   "execution_count": 2,
   "metadata": {},
   "outputs": [],
   "source": [
    "from utils.tree_search import Node, Queue, Stack, Tree\n",
    "import shelfsolver"
   ]
  },
  {
   "cell_type": "markdown",
   "metadata": {},
   "source": [
    "# Tasks"
   ]
  },
  {
   "cell_type": "markdown",
   "metadata": {},
   "source": [
    "1. Sort object so that each row has only objects of one color\n",
    "\n",
    "2a. Sort objects so that each row has all the unique colors and all the unique shapes once \n",
    "\n",
    "2b. Sort objects so that each column has all the unique colors and all the unique shapes once \n",
    "\n",
    "3a. Sort objects so that each row and column has each of the four colors once. ← this task can take longer and may have longer duration than preceding tasks \n",
    "\n",
    "3b. Sort objects so that each row and column has each of the four shapes once. ← this task can take longer and may have longer duration than preceding tasks "
   ]
  },
  {
   "cell_type": "markdown",
   "metadata": {},
   "source": [
    "## Task 1: One color per row"
   ]
  },
  {
   "cell_type": "markdown",
   "metadata": {},
   "source": [
    "### Solve single shelf"
   ]
  },
  {
   "cell_type": "code",
   "execution_count": 43,
   "metadata": {},
   "outputs": [
    {
     "name": "stdout",
     "output_type": "stream",
     "text": [
      "[[32 22  0 13  0]\n",
      " [ 0  0  0 21 34]\n",
      " [41  0 23 24 33]\n",
      " [43 44 31 11 12]\n",
      " [14  0  0 42  0]]\n",
      "{0: 4, 1: 3, 2: 2, 3: 1, 4: None}\n"
     ]
    }
   ],
   "source": [
    "solver = shelfsolver.ShelfSolver()\n",
    "shelf = shelfsolver.ShelfGenerator().new_random_shelf()\n",
    "base_ids = solver.assign_bases(shelf)\n",
    "print(shelf)\n",
    "print(base_ids)"
   ]
  },
  {
   "cell_type": "code",
   "execution_count": 44,
   "metadata": {},
   "outputs": [
    {
     "name": "stdout",
     "output_type": "stream",
     "text": [
      "Length of queue: 73\r"
     ]
    }
   ],
   "source": [
    "result = solver.solve(shelf, base_ids)"
   ]
  },
  {
   "cell_type": "markdown",
   "metadata": {},
   "source": [
    "## Task 2: Every row should contain items of unique color and shape"
   ]
  },
  {
   "cell_type": "code",
   "execution_count": 233,
   "metadata": {},
   "outputs": [
    {
     "data": {
      "text/plain": [
       "<module 'shelfsolver' from '/home/pscl/Development/Projects/shelf-solver/shelfsolver.py'>"
      ]
     },
     "execution_count": 233,
     "metadata": {},
     "output_type": "execute_result"
    }
   ],
   "source": [
    "importlib.reload(shelfsolver)"
   ]
  },
  {
   "cell_type": "code",
   "execution_count": 227,
   "metadata": {},
   "outputs": [
    {
     "name": "stdout",
     "output_type": "stream",
     "text": [
      "[[ 0  0  0  0  0]\n",
      " [23 31 12 24  0]\n",
      " [44 13 14  0  0]\n",
      " [43 33 42  0 32]\n",
      " [11 21 34 41 22]]\n"
     ]
    }
   ],
   "source": [
    "solver = shelfsolver.ShelfSolver()\n",
    "shelf = shelfsolver.ShelfGenerator().new_random_shelf()\n",
    "print(shelf)"
   ]
  },
  {
   "cell_type": "code",
   "execution_count": null,
   "metadata": {},
   "outputs": [],
   "source": [
    "results = solver.solve_task(shelf, task=2, verbose=1, search_type=\"stack\", collect=False)"
   ]
  },
  {
   "cell_type": "markdown",
   "metadata": {},
   "source": [
    "## Task 3: Each row and each column has each of the four colors once."
   ]
  },
  {
   "cell_type": "code",
   "execution_count": 94,
   "metadata": {},
   "outputs": [
    {
     "data": {
      "text/plain": [
       "<module 'shelfsolver' from '/home/pscl/Development/Projects/shelf-solver/shelfsolver.py'>"
      ]
     },
     "execution_count": 94,
     "metadata": {},
     "output_type": "execute_result"
    }
   ],
   "source": [
    "importlib.reload(shelfsolver)"
   ]
  },
  {
   "cell_type": "code",
   "execution_count": 99,
   "metadata": {},
   "outputs": [
    {
     "name": "stdout",
     "output_type": "stream",
     "text": [
      "[[33 43  0  0  0]\n",
      " [21  0 12  0 13]\n",
      " [42  0 11 41 44]\n",
      " [ 0 34 32 31  0]\n",
      " [23 14 22  0 24]]\n"
     ]
    }
   ],
   "source": [
    "solver = shelfsolver.ShelfSolver()\n",
    "shelf = shelfsolver.ShelfGenerator().new_random_shelf(seed=10**9)\n",
    "print(shelf)"
   ]
  },
  {
   "cell_type": "code",
   "execution_count": 62,
   "metadata": {},
   "outputs": [
    {
     "name": "stdout",
     "output_type": "stream",
     "text": [
      "Fatal: No solution found.: 10 | Length of tree: 890\n",
      "Function 'solve_task' finished after 20.0046 seconds.\n"
     ]
    }
   ],
   "source": [
    "results = solver.solve_task(shelf, task=3, verbose=1, search_type=\"stack\", collect=False)\n",
    "results"
   ]
  }
 ],
 "metadata": {
  "kernelspec": {
   "display_name": "Python 3",
   "language": "python",
   "name": "python3"
  },
  "language_info": {
   "codemirror_mode": {
    "name": "ipython",
    "version": 3
   },
   "file_extension": ".py",
   "mimetype": "text/x-python",
   "name": "python",
   "nbconvert_exporter": "python",
   "pygments_lexer": "ipython3",
   "version": "3.6.9"
  }
 },
 "nbformat": 4,
 "nbformat_minor": 4
}
