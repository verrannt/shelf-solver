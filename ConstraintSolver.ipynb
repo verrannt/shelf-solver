{
 "cells": [
  {
   "cell_type": "code",
   "execution_count": 6,
   "metadata": {},
   "outputs": [],
   "source": [
    "import constraint\n",
    "import importlib\n",
    "import matplotlib.pyplot as plt\n",
    "import numpy as np\n",
    "import pickle\n",
    "from multiprocessing import Pool, cpu_count"
   ]
  },
  {
   "cell_type": "code",
   "execution_count": 2,
   "metadata": {},
   "outputs": [],
   "source": [
    "from utils.tree_search import Node, Queue, Stack\n",
    "import shelfsolver"
   ]
  },
  {
   "cell_type": "code",
   "execution_count": 5,
   "metadata": {},
   "outputs": [
    {
     "name": "stdout",
     "output_type": "stream",
     "text": [
      "[[ 0 31 24  0 34]\n",
      " [44 42 43  0  0]\n",
      " [ 0  0 13 23 33]\n",
      " [21 22 12 11  0]\n",
      " [ 0 41 32 14  0]]\n"
     ]
    }
   ],
   "source": [
    "shelf = shelfsolver.ShelfGenerator().new_random_shelf(seed=3)\n",
    "print(shelf)"
   ]
  },
  {
   "cell_type": "markdown",
   "metadata": {},
   "source": [
    "## Task 2: Sort objects so that each row has all the unique colors and all the unique shapes once "
   ]
  },
  {
   "cell_type": "markdown",
   "metadata": {},
   "source": [
    "Constraints:\n",
    "* All colors are different per row\n",
    "* All shapes are different per row"
   ]
  },
  {
   "cell_type": "code",
   "execution_count": null,
   "metadata": {},
   "outputs": [],
   "source": [
    "problem = constraint.Problem()\n",
    "\n",
    "possible_values = [0,11,12,13,14,21,22,23,24,31,32,33,34,41,42,43,44]\n",
    "\n",
    "# Define position in the shelf as variables 11 (upper left) to 55 (lower right)\n",
    "for i in range(1, 6): # all rows\n",
    "    problem.addVariables(range(i*10+1,i*10+6), possible_values) # all cols\n",
    "    \n"
   ]
  }
 ],
 "metadata": {
  "kernelspec": {
   "display_name": "Python 3",
   "language": "python",
   "name": "python3"
  },
  "language_info": {
   "codemirror_mode": {
    "name": "ipython",
    "version": 3
   },
   "file_extension": ".py",
   "mimetype": "text/x-python",
   "name": "python",
   "nbconvert_exporter": "python",
   "pygments_lexer": "ipython3",
   "version": "3.7.5"
  }
 },
 "nbformat": 4,
 "nbformat_minor": 4
}
