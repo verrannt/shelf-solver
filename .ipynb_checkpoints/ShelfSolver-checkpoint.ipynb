{
 "cells": [
  {
   "cell_type": "code",
   "execution_count": 1,
   "metadata": {},
   "outputs": [],
   "source": [
    "import numpy as np\n",
    "import pickle\n",
    "from multiprocessing import Pool, cpu_count"
   ]
  },
  {
   "cell_type": "code",
   "execution_count": 2,
   "metadata": {},
   "outputs": [],
   "source": [
    "import time\n",
    "def timer(func):\n",
    "    def f(*args, **kwargs):\n",
    "        start = time.time()\n",
    "        rv = func(*args, **kwargs)\n",
    "        duration = time.time() - start\n",
    "        print(\"Function '{}' finished after {:.4f} seconds.\"\\\n",
    "              .format(func.__name__, duration))\n",
    "        return rv\n",
    "    return f"
   ]
  },
  {
   "cell_type": "code",
   "execution_count": 3,
   "metadata": {},
   "outputs": [],
   "source": [
    "class Queue(object):\n",
    "    def __init__(self):\n",
    "        self.queue = []\n",
    "         \n",
    "    def __call__(self):\n",
    "        return self.queue\n",
    "  \n",
    "    def __len__(self):\n",
    "        return len(self.queue)\n",
    "    \n",
    "    def enqueue(self, item):\n",
    "        self.queue.append(item)\n",
    "        \n",
    "    def dequeue(self):\n",
    "        return self.queue.pop(0)\n",
    "\n",
    "    def is_not_empty(self):\n",
    "        return bool(self.queue)\n",
    "\n",
    "class Node:\n",
    "    def __init__(self, state, parent=None):\n",
    "        self.state = state\n",
    "        self.parent = parent\n",
    "        if self.parent:\n",
    "            self.depth = parent.depth + 1\n",
    "        else:\n",
    "            self.depth = 0"
   ]
  },
  {
   "cell_type": "code",
   "execution_count": 4,
   "metadata": {},
   "outputs": [],
   "source": [
    "class ShelfSolver:\n",
    "    def __init__(self, shelf_size=(5,5), n_shapes=4, n_colors=4, random_seed=None):\n",
    "        self.shelf_size = shelf_size\n",
    "        self.n_shapes = n_shapes\n",
    "        self.n_colors = n_colors\n",
    "        self.random_seed = random_seed\n",
    "    \n",
    "    def new_random_shelf(self, seeded=False):\n",
    "        ''' Return a new random shelf matrix '''\n",
    "        # Create indices\n",
    "        if seeded: np.random.seed(self.random_seed)\n",
    "        indices = np.random.choice(\n",
    "            self.shelf_size[0]*self.shelf_size[1], \n",
    "            size = self.n_shapes*self.n_colors,\n",
    "            replace=False)\n",
    "        # Create empty shelf\n",
    "        shelf = np.zeros(self.shelf_size[0]*self.shelf_size[1])\n",
    "        # Create objects\n",
    "        objects = np.array([i+j for j in np.arange(10,(self.n_colors+1)*10,10) \\\n",
    "                   for i in np.arange(1,self.n_shapes+1,1)])\n",
    "        # Populate shelf with objects and reshape\n",
    "        shelf[indices] = objects\n",
    "        shelf = shelf.reshape(self.shelf_size)\n",
    "        shelf = np.asarray(shelf, dtype=int)\n",
    "        #shelf = np.asarray(shelf, dtype=str)\n",
    "        return shelf\n",
    "    \n",
    "    def assign_bases(self, shelf):\n",
    "        base_ids = dict()\n",
    "        for row_id, row in enumerate(shelf):\n",
    "            color_counts = self.count_colors_in_row(row)\n",
    "            colors_with_highest_count = np.argwhere(\n",
    "                color_counts == np.max(color_counts))\n",
    "            if colors_with_highest_count.shape[0] == 1:\n",
    "                if colors_with_highest_count[0,0]+1 in base_ids.values(): \n",
    "                    base_ids[row_id] = None # if color already has base set None\n",
    "                else:\n",
    "                    base_ids[row_id] = colors_with_highest_count[0,0]+1\n",
    "            elif colors_with_highest_count.shape[0] > 1:\n",
    "                base_ids[row_id] = None\n",
    "                \n",
    "        # For the leftover colors assign them randomly\n",
    "        leftover_row_ids = np.argwhere(np.array(list(base_ids.values()))==None)\n",
    "        leftover_row_ids = [ri[0] for ri in leftover_row_ids] \n",
    "        leftover_colors = [color for color in range(1, self.n_colors+1) if color not in list(base_ids.values())]\n",
    "        assign_ids = np.random.choice(a=leftover_row_ids, size=len(leftover_colors), replace=False)\n",
    "        for i in range(len(leftover_colors)):\n",
    "            base_ids[assign_ids[i]] = leftover_colors[i]\n",
    "    \n",
    "        return base_ids\n",
    "    \n",
    "    def count_colors_in_row(self, row):\n",
    "        colors_instances = np.zeros(self.n_colors)\n",
    "        for ob in row:\n",
    "            if ob != 0:\n",
    "                color = self.get_color(ob)\n",
    "                colors_instances[color-1] += 1\n",
    "        return colors_instances\n",
    " \n",
    "    def is_in_correct_base(self, item, base_ids, row_idx):\n",
    "        return (base_ids[row_idx] == self.get_color(item))\n",
    "    \n",
    "    def move_object(self, shelf, obj, old_position, new_position):\n",
    "        new_shelf = shelf.copy()\n",
    "        new_shelf[old_position] = 0\n",
    "        new_shelf[new_position] = obj\n",
    "        return new_shelf\n",
    "    \n",
    "    def is_final_state(self, base_ids, shelf_state):\n",
    "        is_final_state = np.ones(shelf_state.shape, dtype=bool)\n",
    "        for row_idx, row in enumerate(shelf_state):\n",
    "            for col_idx, item in enumerate(row):\n",
    "                if item != 0:\n",
    "                    is_final_state[row_idx,col_idx] = \\\n",
    "                       self.is_in_correct_base(item, base_ids, row_idx)\n",
    "                else:\n",
    "                    continue\n",
    "        return is_final_state.all() # all must be True\n",
    "    \n",
    "    def has_been_visited(self, shelf_state, visited_states):\n",
    "        return hash(str(shelf_state)) in visited_states\n",
    "    \n",
    "    @timer\n",
    "    def solve(self, shelf, base_ids, verbose=0):\n",
    "        \n",
    "        # Measure elapsed time\n",
    "        _start = time.time()\n",
    "        \n",
    "        # Enqueue start state\n",
    "        root_node = Node(shelf)\n",
    "        queue = Queue()\n",
    "        queue.enqueue(root_node)\n",
    "        \n",
    "        # Collect depths of all correct children\n",
    "        final_states = []\n",
    "        collected_depths = []\n",
    "        \n",
    "        # Keep track of visited states\n",
    "        visited_states = []\n",
    "        \n",
    "        # Iterate through queue\n",
    "        while queue.is_not_empty():\n",
    "            \n",
    "            node = queue.dequeue()\n",
    "            if self.is_final_state(base_ids, node.state):\n",
    "                final_states.append(node.state)\n",
    "                collected_depths.append(node.depth)\n",
    "                continue\n",
    "                #return final_states, collected_depths\n",
    "            \n",
    "            # Create children of node and enqueue them\n",
    "            # by iterating through items\n",
    "            for i in range(self.shelf_size[0]): # iterate thru row\n",
    "                for j in range(self.shelf_size[1]): # iterate thru col\n",
    "                    \n",
    "                    item = node.state[i,j]\n",
    "                    if item == 0: # if empty space\n",
    "                        continue  # do nothing\n",
    "                        \n",
    "                    # If object not in correct base\n",
    "                    if not self.is_in_correct_base(item, base_ids, i):\n",
    "\n",
    "                        # Find correct row\n",
    "                        correct_row = list(base_ids.values())\\\n",
    "                            .index(self.get_color(item))\n",
    "                        \n",
    "                        # Find empty spaces in correct row\n",
    "                        empty_space_ids = np.argwhere(\n",
    "                            node.state[correct_row]==0)\n",
    "                        \n",
    "                        # Enqueue all states that move item into empty\n",
    "                        # space in correct row\n",
    "                        for empty_space_id in empty_space_ids:\n",
    "                            new_state = self.move_object(\n",
    "                                node.state, item, (i,j), \n",
    "                                (correct_row, empty_space_id))\n",
    "                            if not self.has_been_visited(new_state, visited_states):\n",
    "                                visited_states.append(hash(str(new_state)))\n",
    "                                child_node = Node(new_state, parent=node)\n",
    "                                queue.enqueue(child_node)\n",
    "                    else:\n",
    "                        continue\n",
    "            print(\"Length of queue: {}\\r\".format(len(queue)), end=\"\")\n",
    "            #if time.time()-_start > 20:\n",
    "            #    print(\"More than 20 seconds elapsed, terminating with queue length of\", len(queue))\n",
    "            #    break\n",
    "            if len(queue) >= 20000:\n",
    "                print(\"Queued 20k items, terminating.\")\n",
    "                break\n",
    "        \n",
    "        return list(np.unique(collected_depths))\n",
    "            \n",
    "    def get_color(self, obj):\n",
    "        return obj//10\n",
    "    \n",
    "    def get_shape(self, obj):\n",
    "        return obj%10"
   ]
  },
  {
   "cell_type": "code",
   "execution_count": 43,
   "metadata": {},
   "outputs": [
    {
     "name": "stdout",
     "output_type": "stream",
     "text": [
      "[[13 12 42 33 24]\n",
      " [44 34  0  0  0]\n",
      " [ 0 31  0 22 32]\n",
      " [ 0 21  0 43 41]\n",
      " [11 14 23  0  0]]\n",
      "{0: 1, 1: 2, 2: 3, 3: 4, 4: None}\n"
     ]
    }
   ],
   "source": [
    "#solver = ShelfSolver(shelf_size=(4,4), n_colors=3, n_shapes=3, random_seed=80)\n",
    "solver = ShelfSolver(random_seed=8)\n",
    "shelf = solver.new_random_shelf()\n",
    "base_ids = solver.assign_bases(shelf)\n",
    "print(shelf)\n",
    "print(base_ids)"
   ]
  },
  {
   "cell_type": "code",
   "execution_count": 44,
   "metadata": {},
   "outputs": [
    {
     "name": "stdout",
     "output_type": "stream",
     "text": [
      "Queued 20k items, terminating.\n",
      "Function 'solve' finished after 25.7146 seconds.\n"
     ]
    }
   ],
   "source": [
    "collected_depths = solver.solve(shelf, base_ids, verbose=0)"
   ]
  },
  {
   "cell_type": "code",
   "execution_count": null,
   "metadata": {},
   "outputs": [],
   "source": [
    "# Collect search depths\n",
    "depths = []\n",
    "#solver = ShelfSolver()\n",
    "\n",
    "use_multiprocessing = False\n",
    "\n",
    "def thread_job(shelf):\n",
    "    base_ids = solver.assign_bases(shelf)\n",
    "    results = solver.solve(shelf=shelf, base_ids=base_ids)\n",
    "    return results\n",
    "\n",
    "n_tries = 200\n",
    "#shelves = [solver.new_random_shelf() for _ in range(n_tries)]  \n",
    "\n",
    "if use_multiprocessing:\n",
    "    pool = Pool(processes=cpu_count())\n",
    "    collected_depths = pool.map(thread_job, shelves)\n",
    "    pool.close()\n",
    "    \n",
    "else:\n",
    "    depths = []\n",
    "    for i in range(n_tries):\n",
    "        solver = ShelfSolver()\n",
    "        shelf = solver.new_random_shelf()\n",
    "        base_ids = solver.assign_bases(shelf)\n",
    "        results = solver.solve(shelf, base_ids)\n",
    "        if results:\n",
    "            depths.append(results[0])\n",
    "        with open('collected_depths.pickle', 'wb') as handle:\n",
    "            pickle.dump(collected_depths, handle, protocol=pickle.HIGHEST_PROTOCOL)"
   ]
  },
  {
   "cell_type": "code",
   "execution_count": 4,
   "metadata": {},
   "outputs": [
    {
     "data": {
      "text/plain": [
       "['depths.pickle', 'depths2.pickle', 'depths3.pickle', 'depths4a.pickle']"
      ]
     },
     "execution_count": 4,
     "metadata": {},
     "output_type": "execute_result"
    }
   ],
   "source": [
    "import os\n",
    "depth_files = sorted([entry for entry in os.listdir() if entry.split('.')[-1] == 'pickle'])\n",
    "depth_files"
   ]
  },
  {
   "cell_type": "code",
   "execution_count": null,
   "metadata": {},
   "outputs": [],
   "source": [
    "depths = np.array([])\n",
    "for filename in depth_files:\n",
    "    with open(filename, 'rb') as handle:\n",
    "        depths = np.append(depths, np.array(pickle.load(handle)))\n",
    "depths"
   ]
  },
  {
   "cell_type": "code",
   "execution_count": 7,
   "metadata": {},
   "outputs": [
    {
     "name": "stdout",
     "output_type": "stream",
     "text": [
      "[9, 9, 9, 9, 10, 9, 9, 8, 7, 8, 8, 8, 8, 8, 9, 8, 10, 9, 9, 10, 9, 9, 8, 9, 9, 10, 8, 9, 7, 8, 7, 9, 7, 10, 10, 9, 9, 9, 9, 9, 9, 9, 7, 8, 9, 8, 7, 8, 8, 9, 9, 7, 9, 9, 9, 8, 9, 8, 8, 9, 9, 9, 9, 9, 9, 8, 10, 9, 8, 8, 8, 8, 8, 8, 8, 9, 10, 9, 8, 10, 7, 7, 9, 9, 8, 8, 8, 9, 7, 8, 9, 8, 7, 9, 9, 10, 9, 6, 9, 9, 9, 8, 9, 9, 10, 10, 8, 9, 9, 9, 8, 8, 9, 8, 9, 10, 9, 9, 10, 9, 10, 10, 9, 8, 8, 8, 7, 8, 8, 9, 8, 9, 9, 8, 9, 9, 9, 6, 9, 8, 9, 9, 7, 9, 9, 10, 7, 8, 9, 7, 5, 9, 8, 8, 9, 8, 7, 9, 9, 7, 9, 9, 9, 9, 9, 10, 9, 9, 9, 8, 9, 9, 9, 10, 8, 10, 8, 10, 8, 8, 9, 9, 8, 8, 7, 9, 9, 9, 8, 9, 7, 9, 9, 9, 7, 7, 9, 8, 8, 9, 9, 8, 8, 10, 10, 8, 9, 7, 9, 9, 10, 6, 9, 9, 9, 7, 9, 8, 9, 8, 8, 10, 9, 9, 8, 8, 6, 8, 8, 10, 7, 9, 9, 8, 10, 9, 10, 8, 7, 9, 8, 10, 10, 7, 8, 8, 9, 9, 9, 9, 7, 9, 9, 9, 9, 8, 9, 9, 8, 9, 9, 9, 8, 7, 9, 9, 8]\n"
     ]
    }
   ],
   "source": [
    "with open('depths4a.pickle', 'rb') as handle:\n",
    "    depths = pickle.load(handle)\n",
    "print(depths)"
   ]
  },
  {
   "cell_type": "code",
   "execution_count": null,
   "metadata": {},
   "outputs": [],
   "source": [
    "print(\"Success ratio:\", len(depths)/n_tries)\n",
    "print(depths)\n",
    "for d in depths:\n",
    "    depths_over_several_runs.append(d)"
   ]
  },
  {
   "cell_type": "code",
   "execution_count": 19,
   "metadata": {},
   "outputs": [
    {
     "data": {
      "image/png": "[encoded data removed]",
      "text/plain": [
       "<Figure size 864x504 with 1 Axes>"
      ]
     },
     "metadata": {
      "needs_background": "light"
     },
     "output_type": "display_data"
    }
   ],
   "source": [
    "import matplotlib.pyplot as plt\n",
    "plt.figure(figsize=(12,7))\n",
    "bins= np.arange(5.,11.,.5) #[5.,5.5,6.,6.5,7.,7.5,8.,8.5,9.,9.5,10.,10.5]\n",
    "plt.hist(depths, bins,align='left')\n",
    "#plt.title('Absolute frequencies of number of moves')\n",
    "plt.xlabel('No. of moves until final state reached')\n",
    "plt.ylabel('Absolute frequency')\n",
    "plt.savefig('distribution_of_depths')\n",
    "plt.show()"
   ]
  },
  {
   "cell_type": "code",
   "execution_count": null,
   "metadata": {},
   "outputs": [],
   "source": []
  }
 ],
 "metadata": {
  "kernelspec": {
   "display_name": "Python 3",
   "language": "python",
   "name": "python3"
  },
  "language_info": {
   "codemirror_mode": {
    "name": "ipython",
    "version": 3
   },
   "file_extension": ".py",
   "mimetype": "text/x-python",
   "name": "python",
   "nbconvert_exporter": "python",
   "pygments_lexer": "ipython3",
   "version": "3.6.9"
  }
 },
 "nbformat": 4,
 "nbformat_minor": 4
}
