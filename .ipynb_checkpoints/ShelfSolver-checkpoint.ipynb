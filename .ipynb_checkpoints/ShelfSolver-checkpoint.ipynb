{
 "cells": [
  {
   "cell_type": "code",
   "execution_count": 1,
   "metadata": {},
   "outputs": [],
   "source": [
    "import importlib\n",
    "import matplotlib.pyplot as plt\n",
    "import numpy as np\n",
    "import pickle\n",
    "from multiprocessing import Pool, cpu_count"
   ]
  },
  {
   "cell_type": "code",
   "execution_count": 2,
   "metadata": {},
   "outputs": [],
   "source": [
    "from utils.tree_search import Node, Queue, Stack, Tree\n",
    "import shelfsolver"
   ]
  },
  {
   "cell_type": "code",
   "execution_count": 88,
   "metadata": {},
   "outputs": [
    {
     "name": "stdout",
     "output_type": "stream",
     "text": [
      "1 1\n",
      "1 2\n",
      "1 3\n",
      "1 4\n",
      "1 5\n",
      "2 1\n",
      "2 2\n",
      "2 3\n",
      "2 4\n",
      "2 5\n"
     ]
    }
   ],
   "source": [
    "for sup in range(1,3):\n",
    "    for low in range(1,6):\n",
    "        print(sup,low)"
   ]
  },
  {
   "cell_type": "code",
   "execution_count": 87,
   "metadata": {},
   "outputs": [
    {
     "data": {
      "text/plain": [
       "[(1, 1),\n",
       " (2, 1),\n",
       " (1, 2),\n",
       " (2, 2),\n",
       " (1, 3),\n",
       " (2, 3),\n",
       " (1, 4),\n",
       " (2, 4),\n",
       " (1, 5),\n",
       " (2, 5)]"
      ]
     },
     "execution_count": 87,
     "metadata": {},
     "output_type": "execute_result"
    }
   ],
   "source": [
    "[(i,j) for j in range(1,6) for i in range(1,3)]"
   ]
  },
  {
   "cell_type": "markdown",
   "metadata": {},
   "source": [
    "# Tasks"
   ]
  },
  {
   "cell_type": "markdown",
   "metadata": {},
   "source": [
    "1. Sort object so that each row has only objects of one color\n",
    "\n",
    "2a. Sort objects so that each row has all the unique colors and all the unique shapes once \n",
    "\n",
    "2b. Sort objects so that each column has all the unique colors and all the unique shapes once \n",
    "\n",
    "3a. Sort objects so that each row and column has each of the four colors once. ← this task can take longer and may have longer duration than preceding tasks \n",
    "\n",
    "3b. Sort objects so that each row and column has each of the four shapes once. ← this task can take longer and may have longer duration than preceding tasks "
   ]
  },
  {
   "cell_type": "markdown",
   "metadata": {},
   "source": [
    "## Task 1: One color per row"
   ]
  },
  {
   "cell_type": "markdown",
   "metadata": {},
   "source": [
    "### Solve single shelf"
   ]
  },
  {
   "cell_type": "code",
   "execution_count": 43,
   "metadata": {},
   "outputs": [
    {
     "name": "stdout",
     "output_type": "stream",
     "text": [
      "[[32 22  0 13  0]\n",
      " [ 0  0  0 21 34]\n",
      " [41  0 23 24 33]\n",
      " [43 44 31 11 12]\n",
      " [14  0  0 42  0]]\n",
      "{0: 4, 1: 3, 2: 2, 3: 1, 4: None}\n"
     ]
    }
   ],
   "source": [
    "solver = shelfsolver.ShelfSolver()\n",
    "shelf = shelfsolver.ShelfGenerator().new_random_shelf()\n",
    "base_ids = solver.assign_bases(shelf)\n",
    "print(shelf)\n",
    "print(base_ids)"
   ]
  },
  {
   "cell_type": "code",
   "execution_count": 44,
   "metadata": {},
   "outputs": [
    {
     "name": "stdout",
     "output_type": "stream",
     "text": [
      "Length of queue: 73\r"
     ]
    }
   ],
   "source": [
    "result = solver.solve(shelf, base_ids)"
   ]
  },
  {
   "cell_type": "code",
   "execution_count": 14,
   "metadata": {},
   "outputs": [
    {
     "data": {
      "text/plain": [
       "(array([[ 0, 21, 23, 22, 24],\n",
       "        [ 0,  0,  0,  0,  0],\n",
       "        [ 0, 12, 14, 11, 13],\n",
       "        [ 0, 34, 31, 33, 32],\n",
       "        [ 0, 42, 44, 41, 43]]),\n",
       " 10)"
      ]
     },
     "execution_count": 14,
     "metadata": {},
     "output_type": "execute_result"
    }
   ],
   "source": [
    "result"
   ]
  },
  {
   "cell_type": "markdown",
   "metadata": {},
   "source": [
    "### Solve multiple shelves"
   ]
  },
  {
   "cell_type": "code",
   "execution_count": null,
   "metadata": {},
   "outputs": [],
   "source": [
    "# Collect search depths\n",
    "depths = []\n",
    "#solver = ShelfSolver()\n",
    "\n",
    "use_multiprocessing = False\n",
    "\n",
    "def thread_job(shelf):\n",
    "    base_ids = solver.assign_bases(shelf)\n",
    "    results = solver.solve(shelf=shelf, base_ids=base_ids)\n",
    "    return results\n",
    "\n",
    "n_tries = 200\n",
    "#shelves = [solver.new_random_shelf() for _ in range(n_tries)]  \n",
    "\n",
    "if use_multiprocessing:\n",
    "    pool = Pool(processes=cpu_count())\n",
    "    collected_depths = pool.map(thread_job, shelves)\n",
    "    pool.close()\n",
    "    \n",
    "else:\n",
    "    depths = []\n",
    "    for i in range(n_tries):\n",
    "        solver = ShelfSolver()\n",
    "        shelf = solver.new_random_shelf()\n",
    "        base_ids = solver.assign_bases(shelf)\n",
    "        results = solver.solve(shelf, base_ids)\n",
    "        if results:\n",
    "            depths.append(results[0])\n",
    "        with open('collected_depths.pickle', 'wb') as handle:\n",
    "            pickle.dump(collected_depths, handle, protocol=pickle.HIGHEST_PROTOCOL)"
   ]
  },
  {
   "cell_type": "markdown",
   "metadata": {},
   "source": [
    "## Task 2: Every row should contain items of unique color and shape"
   ]
  },
  {
   "cell_type": "code",
   "execution_count": 233,
   "metadata": {},
   "outputs": [
    {
     "data": {
      "text/plain": [
       "<module 'shelfsolver' from '/home/pscl/Development/Projects/shelf-solver/shelfsolver.py'>"
      ]
     },
     "execution_count": 233,
     "metadata": {},
     "output_type": "execute_result"
    }
   ],
   "source": [
    "importlib.reload(shelfsolver)"
   ]
  },
  {
   "cell_type": "code",
   "execution_count": 227,
   "metadata": {},
   "outputs": [
    {
     "name": "stdout",
     "output_type": "stream",
     "text": [
      "[[ 0  0  0  0  0]\n",
      " [23 31 12 24  0]\n",
      " [44 13 14  0  0]\n",
      " [43 33 42  0 32]\n",
      " [11 21 34 41 22]]\n"
     ]
    }
   ],
   "source": [
    "solver = shelfsolver.ShelfSolver()\n",
    "shelf = shelfsolver.ShelfGenerator().new_random_shelf()\n",
    "print(shelf)"
   ]
  },
  {
   "cell_type": "code",
   "execution_count": null,
   "metadata": {},
   "outputs": [],
   "source": [
    "results = solver.solve_unique_per_row_with_scores(shelf, verbose=1, search_type=\"stack\", collect=True)"
   ]
  },
  {
   "cell_type": "code",
   "execution_count": null,
   "metadata": {},
   "outputs": [],
   "source": [
    "solver = shelfsolver.ShelfSolver()\n",
    "shelfgen = shelfsolver.ShelfGenerator()\n",
    "depths = []\n",
    "n_tries = 400\n",
    "for i in range(n_tries):\n",
    "    if i%50==0:\n",
    "        print('\\n\\n== Step {} ==\\n'.format(i))\n",
    "    shelf = shelfgen.new_random_shelf()\n",
    "    results = solver.solve_unique_per_row_with_scores(shelf, task=2, search_type=\"stack\", collect=True)\n",
    "    if results:\n",
    "        depths.append(results)\n",
    "        with open('collected_depths/task2_setd.pickle', 'wb') as handle:\n",
    "            pickle.dump(depths, handle, protocol=pickle.HIGHEST_PROTOCOL)"
   ]
  },
  {
   "cell_type": "markdown",
   "metadata": {},
   "source": [
    "## Task 3: Each row and each column has each of the four colors once."
   ]
  },
  {
   "cell_type": "code",
   "execution_count": 59,
   "metadata": {},
   "outputs": [
    {
     "data": {
      "text/plain": [
       "<module 'shelfsolver' from '/home/pscl/Development/Projects/shelf-solver/shelfsolver.py'>"
      ]
     },
     "execution_count": 59,
     "metadata": {},
     "output_type": "execute_result"
    }
   ],
   "source": [
    "importlib.reload(shelfsolver)"
   ]
  },
  {
   "cell_type": "code",
   "execution_count": 61,
   "metadata": {},
   "outputs": [
    {
     "name": "stdout",
     "output_type": "stream",
     "text": [
      "[[31 41 14 32 24]\n",
      " [ 0 21  0  0 43]\n",
      " [ 0 34  0 11 44]\n",
      " [33 22  0  0 23]\n",
      " [42  0 13  0 12]]\n"
     ]
    }
   ],
   "source": [
    "solver = shelfsolver.ShelfSolver()\n",
    "shelf = shelfsolver.ShelfGenerator().new_random_shelf()\n",
    "print(shelf)"
   ]
  },
  {
   "cell_type": "code",
   "execution_count": 62,
   "metadata": {},
   "outputs": [
    {
     "name": "stdout",
     "output_type": "stream",
     "text": [
      "Fatal: No solution found.: 10 | Length of tree: 890\n",
      "Function 'solve_task' finished after 20.0046 seconds.\n"
     ]
    }
   ],
   "source": [
    "results = solver.solve_task(shelf, task=3, verbose=1, search_type=\"stack\", collect=False)\n",
    "results"
   ]
  },
  {
   "cell_type": "code",
   "execution_count": 60,
   "metadata": {},
   "outputs": [
    {
     "name": "stdout",
     "output_type": "stream",
     "text": [
      "\n",
      "\n",
      "== Step 0 ==\n",
      "Successful runs so far: 0\n",
      "Fatal: No solution found.\n",
      "Function 'solve_task' finished after 20.0054 seconds.\n",
      "Function 'solve_task' finished after 9.6055 seconds.\n",
      "Function 'solve_task' finished after 0.9113 seconds.\n",
      "Function 'solve_task' finished after 10.1747 seconds.\n",
      "Function 'solve_task' finished after 16.7226 seconds.\n",
      "Function 'solve_task' finished after 20.0003 seconds.\n",
      "Fatal: No solution found.\n",
      "Function 'solve_task' finished after 20.0017 seconds.\n",
      "Function 'solve_task' finished after 2.2878 seconds.\n",
      "Function 'solve_task' finished after 4.1558 seconds.\n",
      "Function 'solve_task' finished after 20.0063 seconds.\n",
      "Function 'solve_task' finished after 20.0047 seconds.\n",
      "Function 'solve_task' finished after 20.0040 seconds.\n",
      "Fatal: No solution found.\n",
      "Function 'solve_task' finished after 20.0022 seconds.\n",
      "Fatal: No solution found.\n",
      "Function 'solve_task' finished after 20.0036 seconds.\n",
      "Fatal: No solution found.\n",
      "Function 'solve_task' finished after 20.0017 seconds.\n",
      "Function 'solve_task' finished after 16.2214 seconds.\n",
      "Function 'solve_task' finished after 20.0048 seconds.\n",
      "Function 'solve_task' finished after 10.0333 seconds.\n",
      "Function 'solve_task' finished after 1.6821 seconds.\n",
      "Function 'solve_task' finished after 4.5800 seconds.\n",
      "Function 'solve_task' finished after 4.7230 seconds.\n",
      "Fatal: No solution found.\n",
      "Function 'solve_task' finished after 20.0009 seconds.\n",
      "Function 'solve_task' finished after 2.5812 seconds.\n",
      "Function 'solve_task' finished after 10.1711 seconds.\n",
      "Fatal: No solution found.\n",
      "Function 'solve_task' finished after 20.0056 seconds.\n",
      "Function 'solve_task' finished after 20.0033 seconds.\n",
      "Function 'solve_task' finished after 20.0028 seconds.\n",
      "Function 'solve_task' finished after 18.5965 seconds.\n",
      "Function 'solve_task' finished after 20.0031 seconds.\n",
      "Function 'solve_task' finished after 7.0781 seconds.\n",
      "Function 'solve_task' finished after 8.0000 seconds.\n",
      "Function 'solve_task' finished after 2.3063 seconds.\n",
      "Function 'solve_task' finished after 3.6993 seconds.\n",
      "Fatal: No solution found.\n",
      "Function 'solve_task' finished after 20.0057 seconds.\n",
      "Function 'solve_task' finished after 20.0020 seconds.\n",
      "Function 'solve_task' finished after 0.3299 seconds.\n",
      "Function 'solve_task' finished after 8.4240 seconds.\n",
      "Function 'solve_task' finished after 20.0008 seconds.\n",
      "Function 'solve_task' finished after 5.7893 seconds.\n",
      "Fatal: No solution found.\n",
      "Function 'solve_task' finished after 20.0014 seconds.\n",
      "Function 'solve_task' finished after 20.0003 seconds.\n",
      "Function 'solve_task' finished after 4.1934 seconds.\n",
      "Function 'solve_task' finished after 1.2910 seconds.\n",
      "Function 'solve_task' finished after 2.0660 seconds.\n",
      "Fatal: No solution found.\n",
      "Function 'solve_task' finished after 20.0043 seconds.\n",
      "Fatal: No solution found.\n",
      "Function 'solve_task' finished after 20.0013 seconds.\n",
      "Function 'solve_task' finished after 20.0050 seconds.\n",
      "Function 'solve_task' finished after 2.4630 seconds.\n",
      "Function 'solve_task' finished after 2.9235 seconds.\n",
      "Function 'solve_task' finished after 20.0002 seconds.\n",
      "\n",
      "\n",
      "== Step 50 ==\n",
      "Successful runs so far: 39\n",
      "Function 'solve_task' finished after 20.0042 seconds.\n",
      "Fatal: No solution found.\n",
      "Function 'solve_task' finished after 20.0049 seconds.\n",
      "Function 'solve_task' finished after 4.5051 seconds.\n",
      "Function 'solve_task' finished after 1.0557 seconds.\n",
      "Function 'solve_task' finished after 2.5434 seconds.\n",
      "Function 'solve_task' finished after 4.5543 seconds.\n",
      "Fatal: No solution found.\n",
      "Function 'solve_task' finished after 20.0057 seconds.\n",
      "Function 'solve_task' finished after 1.1379 seconds.\n",
      "Function 'solve_task' finished after 20.0050 seconds.\n",
      "Fatal: No solution found.\n",
      "Function 'solve_task' finished after 20.0005 seconds.\n",
      "Function 'solve_task' finished after 5.0404 seconds.\n",
      "Function 'solve_task' finished after 14.2121 seconds.\n",
      "Function 'solve_task' finished after 0.7630 seconds.\n",
      "Function 'solve_task' finished after 12.6339 seconds.\n",
      "Function 'solve_task' finished after 0.6067 seconds.\n",
      "Function 'solve_task' finished after 16.1062 seconds.\n",
      "Function 'solve_task' finished after 19.1870 seconds.\n",
      "Function 'solve_task' finished after 20.0044 seconds.\n",
      "Function 'solve_task' finished after 8.6477 seconds.\n",
      "Function 'solve_task' finished after 9.3407 seconds.\n",
      "Fatal: No solution found.\n",
      "Function 'solve_task' finished after 20.0020 seconds.\n",
      "Function 'solve_task' finished after 15.3256 seconds.\n",
      "Fatal: No solution found.\n",
      "Function 'solve_task' finished after 2.2347 seconds.\n",
      "Function 'solve_task' finished after 11.5020 seconds.\n",
      "Function 'solve_task' finished after 14.0775 seconds.\n",
      "Function 'solve_task' finished after 1.1429 seconds.\n",
      "Fatal: No solution found.\n",
      "Function 'solve_task' finished after 20.0020 seconds.\n",
      "Fatal: No solution found.\n",
      "Function 'solve_task' finished after 20.0026 seconds.\n",
      "Function 'solve_task' finished after 20.0079 seconds.\n",
      "Function 'solve_task' finished after 9.1604 seconds.\n",
      "Function 'solve_task' finished after 11.7773 seconds.\n",
      "Function 'solve_task' finished after 20.0002 seconds.\n",
      "Function 'solve_task' finished after 3.9215 seconds.\n",
      "Fatal: No solution found.\n",
      "Function 'solve_task' finished after 20.0016 seconds.\n",
      "Function 'solve_task' finished after 20.0055 seconds.\n",
      "Function 'solve_task' finished after 0.7429 seconds.\n",
      "Fatal: No solution found.\n",
      "Function 'solve_task' finished after 20.0031 seconds.\n",
      "Function 'solve_task' finished after 2.3755 seconds.\n",
      "Function 'solve_task' finished after 5.3010 seconds.\n",
      "Fatal: No solution found.\n",
      "Function 'solve_task' finished after 20.0035 seconds.\n",
      "Function 'solve_task' finished after 12.2162 seconds.\n",
      "Fatal: No solution found.\n",
      "Function 'solve_task' finished after 20.0004 seconds.\n",
      "Function 'solve_task' finished after 20.0008 seconds.\n",
      "Function 'solve_task' finished after 1.9278 seconds.\n",
      "Function 'solve_task' finished after 0.8830 seconds.\n",
      "Fatal: No solution found.\n",
      "Function 'solve_task' finished after 20.0040 seconds.\n",
      "Function 'solve_task' finished after 5.2770 seconds.\n",
      "Fatal: No solution found.\n",
      "Function 'solve_task' finished after 0.0528 seconds.\n",
      "Fatal: No solution found.\n",
      "Function 'solve_task' finished after 20.0031 seconds.\n",
      "Function 'solve_task' finished after 20.0047 seconds.\n",
      "\n",
      "\n",
      "== Step 100 ==\n",
      "Successful runs so far: 75\n",
      "Fatal: No solution found.\n",
      "Function 'solve_task' finished after 20.0026 seconds.\n"
     ]
    },
    {
     "ename": "KeyboardInterrupt",
     "evalue": "",
     "output_type": "error",
     "traceback": [
      "\u001b[0;31m---------------------------------------------------------------------------\u001b[0m",
      "\u001b[0;31mKeyboardInterrupt\u001b[0m                         Traceback (most recent call last)",
      "\u001b[0;32m<ipython-input-60-50bf69f955aa>\u001b[0m in \u001b[0;36m<module>\u001b[0;34m\u001b[0m\n\u001b[1;32m     10\u001b[0m             \u001b[0mpickle\u001b[0m\u001b[0;34m.\u001b[0m\u001b[0mdump\u001b[0m\u001b[0;34m(\u001b[0m\u001b[0mdepths\u001b[0m\u001b[0;34m,\u001b[0m \u001b[0mhandle\u001b[0m\u001b[0;34m,\u001b[0m \u001b[0mprotocol\u001b[0m\u001b[0;34m=\u001b[0m\u001b[0mpickle\u001b[0m\u001b[0;34m.\u001b[0m\u001b[0mHIGHEST_PROTOCOL\u001b[0m\u001b[0;34m)\u001b[0m\u001b[0;34m\u001b[0m\u001b[0;34m\u001b[0m\u001b[0m\n\u001b[1;32m     11\u001b[0m     \u001b[0mshelf\u001b[0m \u001b[0;34m=\u001b[0m \u001b[0mshelfgen\u001b[0m\u001b[0;34m.\u001b[0m\u001b[0mnew_random_shelf\u001b[0m\u001b[0;34m(\u001b[0m\u001b[0;34m)\u001b[0m\u001b[0;34m\u001b[0m\u001b[0;34m\u001b[0m\u001b[0m\n\u001b[0;32m---> 12\u001b[0;31m     \u001b[0mresults\u001b[0m \u001b[0;34m=\u001b[0m \u001b[0msolver\u001b[0m\u001b[0;34m.\u001b[0m\u001b[0msolve_task\u001b[0m\u001b[0;34m(\u001b[0m\u001b[0mshelf\u001b[0m\u001b[0;34m,\u001b[0m \u001b[0mtask\u001b[0m\u001b[0;34m=\u001b[0m\u001b[0;36m3\u001b[0m\u001b[0;34m,\u001b[0m \u001b[0msearch_type\u001b[0m\u001b[0;34m=\u001b[0m\u001b[0;34m\"stack\"\u001b[0m\u001b[0;34m,\u001b[0m \u001b[0mcollect\u001b[0m\u001b[0;34m=\u001b[0m\u001b[0;32mTrue\u001b[0m\u001b[0;34m)\u001b[0m\u001b[0;34m\u001b[0m\u001b[0;34m\u001b[0m\u001b[0m\n\u001b[0m\u001b[1;32m     13\u001b[0m     \u001b[0;32mif\u001b[0m \u001b[0mresults\u001b[0m\u001b[0;34m:\u001b[0m\u001b[0;34m\u001b[0m\u001b[0;34m\u001b[0m\u001b[0m\n\u001b[1;32m     14\u001b[0m         \u001b[0mdepths\u001b[0m\u001b[0;34m.\u001b[0m\u001b[0mappend\u001b[0m\u001b[0;34m(\u001b[0m\u001b[0mresults\u001b[0m\u001b[0;34m)\u001b[0m\u001b[0;34m\u001b[0m\u001b[0;34m\u001b[0m\u001b[0m\n",
      "\u001b[0;32m~/Development/Projects/shelf-solver/utils/timer_decorator.py\u001b[0m in \u001b[0;36mwrapper\u001b[0;34m(*args, **kwargs)\u001b[0m\n\u001b[1;32m      4\u001b[0m     \u001b[0;32mdef\u001b[0m \u001b[0mwrapper\u001b[0m\u001b[0;34m(\u001b[0m\u001b[0;34m*\u001b[0m\u001b[0margs\u001b[0m\u001b[0;34m,\u001b[0m \u001b[0;34m**\u001b[0m\u001b[0mkwargs\u001b[0m\u001b[0;34m)\u001b[0m\u001b[0;34m:\u001b[0m\u001b[0;34m\u001b[0m\u001b[0;34m\u001b[0m\u001b[0m\n\u001b[1;32m      5\u001b[0m         \u001b[0mstart\u001b[0m \u001b[0;34m=\u001b[0m \u001b[0mtime\u001b[0m\u001b[0;34m.\u001b[0m\u001b[0mtime\u001b[0m\u001b[0;34m(\u001b[0m\u001b[0;34m)\u001b[0m\u001b[0;34m\u001b[0m\u001b[0;34m\u001b[0m\u001b[0m\n\u001b[0;32m----> 6\u001b[0;31m         \u001b[0mresults\u001b[0m \u001b[0;34m=\u001b[0m \u001b[0mfunc\u001b[0m\u001b[0;34m(\u001b[0m\u001b[0;34m*\u001b[0m\u001b[0margs\u001b[0m\u001b[0;34m,\u001b[0m \u001b[0;34m**\u001b[0m\u001b[0mkwargs\u001b[0m\u001b[0;34m)\u001b[0m\u001b[0;34m\u001b[0m\u001b[0;34m\u001b[0m\u001b[0m\n\u001b[0m\u001b[1;32m      7\u001b[0m         \u001b[0mduration\u001b[0m \u001b[0;34m=\u001b[0m \u001b[0mtime\u001b[0m\u001b[0;34m.\u001b[0m\u001b[0mtime\u001b[0m\u001b[0;34m(\u001b[0m\u001b[0;34m)\u001b[0m \u001b[0;34m-\u001b[0m \u001b[0mstart\u001b[0m\u001b[0;34m\u001b[0m\u001b[0;34m\u001b[0m\u001b[0m\n\u001b[1;32m      8\u001b[0m         print(\"Function '{}' finished after {:.4f} seconds.\"\\\n",
      "\u001b[0;32m~/Development/Projects/shelf-solver/shelfsolver.py\u001b[0m in \u001b[0;36msolve_task\u001b[0;34m(self, shelf, task, verbose, search_type, collect, timeout)\u001b[0m\n\u001b[1;32m    292\u001b[0m                                 \u001b[0mpossible_state_score\u001b[0m \u001b[0;34m=\u001b[0m \u001b[0mcalc_score_of_state\u001b[0m\u001b[0;34m(\u001b[0m\u001b[0mpossible_state\u001b[0m\u001b[0;34m)\u001b[0m\u001b[0;34m\u001b[0m\u001b[0;34m\u001b[0m\u001b[0m\n\u001b[1;32m    293\u001b[0m                                 \u001b[0;32mif\u001b[0m \u001b[0mpossible_state_score\u001b[0m \u001b[0;34m>\u001b[0m \u001b[0mcurrent_score\u001b[0m \u001b[0;32mand\u001b[0m\u001b[0;31m \u001b[0m\u001b[0;31m\\\u001b[0m\u001b[0;34m\u001b[0m\u001b[0;34m\u001b[0m\u001b[0m\n\u001b[0;32m--> 294\u001b[0;31m                                 \u001b[0;32mnot\u001b[0m \u001b[0mself\u001b[0m\u001b[0;34m.\u001b[0m\u001b[0mhas_been_visited\u001b[0m\u001b[0;34m(\u001b[0m\u001b[0mpossible_state\u001b[0m\u001b[0;34m,\u001b[0m \u001b[0mvisited_states\u001b[0m\u001b[0;34m)\u001b[0m\u001b[0;34m:\u001b[0m\u001b[0;34m\u001b[0m\u001b[0;34m\u001b[0m\u001b[0m\n\u001b[0m\u001b[1;32m    295\u001b[0m                                     \u001b[0mvisited_states\u001b[0m\u001b[0;34m.\u001b[0m\u001b[0mappend\u001b[0m\u001b[0;34m(\u001b[0m\u001b[0mhash\u001b[0m\u001b[0;34m(\u001b[0m\u001b[0mstr\u001b[0m\u001b[0;34m(\u001b[0m\u001b[0mpossible_state\u001b[0m\u001b[0;34m)\u001b[0m\u001b[0;34m)\u001b[0m\u001b[0;34m)\u001b[0m\u001b[0;34m\u001b[0m\u001b[0;34m\u001b[0m\u001b[0m\n\u001b[1;32m    296\u001b[0m                                     \u001b[0mchild_node\u001b[0m \u001b[0;34m=\u001b[0m \u001b[0mNode\u001b[0m\u001b[0;34m(\u001b[0m\u001b[0mpossible_state\u001b[0m\u001b[0;34m,\u001b[0m \u001b[0mparent\u001b[0m\u001b[0;34m=\u001b[0m\u001b[0mnode\u001b[0m\u001b[0;34m)\u001b[0m\u001b[0;34m\u001b[0m\u001b[0;34m\u001b[0m\u001b[0m\n",
      "\u001b[0;32m~/Development/Projects/shelf-solver/shelfsolver.py\u001b[0m in \u001b[0;36mhas_been_visited\u001b[0;34m(self, shelf_state, visited_states)\u001b[0m\n\u001b[1;32m     92\u001b[0m \u001b[0;34m\u001b[0m\u001b[0m\n\u001b[1;32m     93\u001b[0m     \u001b[0;32mdef\u001b[0m \u001b[0mhas_been_visited\u001b[0m\u001b[0;34m(\u001b[0m\u001b[0mself\u001b[0m\u001b[0;34m,\u001b[0m \u001b[0mshelf_state\u001b[0m\u001b[0;34m,\u001b[0m \u001b[0mvisited_states\u001b[0m\u001b[0;34m)\u001b[0m\u001b[0;34m:\u001b[0m\u001b[0;34m\u001b[0m\u001b[0;34m\u001b[0m\u001b[0m\n\u001b[0;32m---> 94\u001b[0;31m         \u001b[0;32mreturn\u001b[0m \u001b[0mhash\u001b[0m\u001b[0;34m(\u001b[0m\u001b[0mstr\u001b[0m\u001b[0;34m(\u001b[0m\u001b[0mshelf_state\u001b[0m\u001b[0;34m)\u001b[0m\u001b[0;34m)\u001b[0m \u001b[0;32min\u001b[0m \u001b[0mvisited_states\u001b[0m\u001b[0;34m\u001b[0m\u001b[0;34m\u001b[0m\u001b[0m\n\u001b[0m\u001b[1;32m     95\u001b[0m \u001b[0;34m\u001b[0m\u001b[0m\n\u001b[1;32m     96\u001b[0m     \u001b[0;32mdef\u001b[0m \u001b[0msolve\u001b[0m\u001b[0;34m(\u001b[0m\u001b[0mself\u001b[0m\u001b[0;34m,\u001b[0m \u001b[0mshelf\u001b[0m\u001b[0;34m,\u001b[0m \u001b[0mbase_ids\u001b[0m\u001b[0;34m,\u001b[0m \u001b[0mverbose\u001b[0m\u001b[0;34m=\u001b[0m\u001b[0;36m0\u001b[0m\u001b[0;34m)\u001b[0m\u001b[0;34m:\u001b[0m\u001b[0;34m\u001b[0m\u001b[0;34m\u001b[0m\u001b[0m\n",
      "\u001b[0;32m~/scienv/lib/python3.7/site-packages/numpy/core/arrayprint.py\u001b[0m in \u001b[0;36m_array_str_implementation\u001b[0;34m(a, max_line_width, precision, suppress_small, array2string)\u001b[0m\n\u001b[1;32m   1504\u001b[0m         \u001b[0;32mreturn\u001b[0m \u001b[0m_guarded_repr_or_str\u001b[0m\u001b[0;34m(\u001b[0m\u001b[0mnp\u001b[0m\u001b[0;34m.\u001b[0m\u001b[0mndarray\u001b[0m\u001b[0;34m.\u001b[0m\u001b[0m__getitem__\u001b[0m\u001b[0;34m(\u001b[0m\u001b[0ma\u001b[0m\u001b[0;34m,\u001b[0m \u001b[0;34m(\u001b[0m\u001b[0;34m)\u001b[0m\u001b[0;34m)\u001b[0m\u001b[0;34m)\u001b[0m\u001b[0;34m\u001b[0m\u001b[0;34m\u001b[0m\u001b[0m\n\u001b[1;32m   1505\u001b[0m \u001b[0;34m\u001b[0m\u001b[0m\n\u001b[0;32m-> 1506\u001b[0;31m     \u001b[0;32mreturn\u001b[0m \u001b[0marray2string\u001b[0m\u001b[0;34m(\u001b[0m\u001b[0ma\u001b[0m\u001b[0;34m,\u001b[0m \u001b[0mmax_line_width\u001b[0m\u001b[0;34m,\u001b[0m \u001b[0mprecision\u001b[0m\u001b[0;34m,\u001b[0m \u001b[0msuppress_small\u001b[0m\u001b[0;34m,\u001b[0m \u001b[0;34m' '\u001b[0m\u001b[0;34m,\u001b[0m \u001b[0;34m\"\"\u001b[0m\u001b[0;34m)\u001b[0m\u001b[0;34m\u001b[0m\u001b[0;34m\u001b[0m\u001b[0m\n\u001b[0m\u001b[1;32m   1507\u001b[0m \u001b[0;34m\u001b[0m\u001b[0m\n\u001b[1;32m   1508\u001b[0m \u001b[0;34m\u001b[0m\u001b[0m\n",
      "\u001b[0;32m~/scienv/lib/python3.7/site-packages/numpy/core/arrayprint.py\u001b[0m in \u001b[0;36marray2string\u001b[0;34m(a, max_line_width, precision, suppress_small, separator, prefix, style, formatter, threshold, edgeitems, sign, floatmode, suffix, **kwarg)\u001b[0m\n\u001b[1;32m    710\u001b[0m         \u001b[0;32mreturn\u001b[0m \u001b[0;34m\"[]\"\u001b[0m\u001b[0;34m\u001b[0m\u001b[0;34m\u001b[0m\u001b[0m\n\u001b[1;32m    711\u001b[0m \u001b[0;34m\u001b[0m\u001b[0m\n\u001b[0;32m--> 712\u001b[0;31m     \u001b[0;32mreturn\u001b[0m \u001b[0m_array2string\u001b[0m\u001b[0;34m(\u001b[0m\u001b[0ma\u001b[0m\u001b[0;34m,\u001b[0m \u001b[0moptions\u001b[0m\u001b[0;34m,\u001b[0m \u001b[0mseparator\u001b[0m\u001b[0;34m,\u001b[0m \u001b[0mprefix\u001b[0m\u001b[0;34m)\u001b[0m\u001b[0;34m\u001b[0m\u001b[0;34m\u001b[0m\u001b[0m\n\u001b[0m\u001b[1;32m    713\u001b[0m \u001b[0;34m\u001b[0m\u001b[0m\n\u001b[1;32m    714\u001b[0m \u001b[0;34m\u001b[0m\u001b[0m\n",
      "\u001b[0;32m~/scienv/lib/python3.7/site-packages/numpy/core/arrayprint.py\u001b[0m in \u001b[0;36mwrapper\u001b[0;34m(self, *args, **kwargs)\u001b[0m\n\u001b[1;32m    482\u001b[0m             \u001b[0mrepr_running\u001b[0m\u001b[0;34m.\u001b[0m\u001b[0madd\u001b[0m\u001b[0;34m(\u001b[0m\u001b[0mkey\u001b[0m\u001b[0;34m)\u001b[0m\u001b[0;34m\u001b[0m\u001b[0;34m\u001b[0m\u001b[0m\n\u001b[1;32m    483\u001b[0m             \u001b[0;32mtry\u001b[0m\u001b[0;34m:\u001b[0m\u001b[0;34m\u001b[0m\u001b[0;34m\u001b[0m\u001b[0m\n\u001b[0;32m--> 484\u001b[0;31m                 \u001b[0;32mreturn\u001b[0m \u001b[0mf\u001b[0m\u001b[0;34m(\u001b[0m\u001b[0mself\u001b[0m\u001b[0;34m,\u001b[0m \u001b[0;34m*\u001b[0m\u001b[0margs\u001b[0m\u001b[0;34m,\u001b[0m \u001b[0;34m**\u001b[0m\u001b[0mkwargs\u001b[0m\u001b[0;34m)\u001b[0m\u001b[0;34m\u001b[0m\u001b[0;34m\u001b[0m\u001b[0m\n\u001b[0m\u001b[1;32m    485\u001b[0m             \u001b[0;32mfinally\u001b[0m\u001b[0;34m:\u001b[0m\u001b[0;34m\u001b[0m\u001b[0;34m\u001b[0m\u001b[0m\n\u001b[1;32m    486\u001b[0m                 \u001b[0mrepr_running\u001b[0m\u001b[0;34m.\u001b[0m\u001b[0mdiscard\u001b[0m\u001b[0;34m(\u001b[0m\u001b[0mkey\u001b[0m\u001b[0;34m)\u001b[0m\u001b[0;34m\u001b[0m\u001b[0;34m\u001b[0m\u001b[0m\n",
      "\u001b[0;32m~/scienv/lib/python3.7/site-packages/numpy/core/arrayprint.py\u001b[0m in \u001b[0;36m_array2string\u001b[0;34m(a, options, separator, prefix)\u001b[0m\n\u001b[1;32m    517\u001b[0m     lst = _formatArray(a, format_function, options['linewidth'],\n\u001b[1;32m    518\u001b[0m                        \u001b[0mnext_line_prefix\u001b[0m\u001b[0;34m,\u001b[0m \u001b[0mseparator\u001b[0m\u001b[0;34m,\u001b[0m \u001b[0moptions\u001b[0m\u001b[0;34m[\u001b[0m\u001b[0;34m'edgeitems'\u001b[0m\u001b[0;34m]\u001b[0m\u001b[0;34m,\u001b[0m\u001b[0;34m\u001b[0m\u001b[0;34m\u001b[0m\u001b[0m\n\u001b[0;32m--> 519\u001b[0;31m                        summary_insert, options['legacy'])\n\u001b[0m\u001b[1;32m    520\u001b[0m     \u001b[0;32mreturn\u001b[0m \u001b[0mlst\u001b[0m\u001b[0;34m\u001b[0m\u001b[0;34m\u001b[0m\u001b[0m\n\u001b[1;32m    521\u001b[0m \u001b[0;34m\u001b[0m\u001b[0m\n",
      "\u001b[0;32m~/scienv/lib/python3.7/site-packages/numpy/core/arrayprint.py\u001b[0m in \u001b[0;36m_formatArray\u001b[0;34m(a, format_function, line_width, next_line_prefix, separator, edge_items, summary_insert, legacy)\u001b[0m\n\u001b[1;32m    838\u001b[0m         return recurser(index=(),\n\u001b[1;32m    839\u001b[0m                         \u001b[0mhanging_indent\u001b[0m\u001b[0;34m=\u001b[0m\u001b[0mnext_line_prefix\u001b[0m\u001b[0;34m,\u001b[0m\u001b[0;34m\u001b[0m\u001b[0;34m\u001b[0m\u001b[0m\n\u001b[0;32m--> 840\u001b[0;31m                         curr_width=line_width)\n\u001b[0m\u001b[1;32m    841\u001b[0m     \u001b[0;32mfinally\u001b[0m\u001b[0;34m:\u001b[0m\u001b[0;34m\u001b[0m\u001b[0;34m\u001b[0m\u001b[0m\n\u001b[1;32m    842\u001b[0m         \u001b[0;31m# recursive closures have a cyclic reference to themselves, which\u001b[0m\u001b[0;34m\u001b[0m\u001b[0;34m\u001b[0m\u001b[0;34m\u001b[0m\u001b[0m\n",
      "\u001b[0;32m~/scienv/lib/python3.7/site-packages/numpy/core/arrayprint.py\u001b[0m in \u001b[0;36mrecurser\u001b[0;34m(index, hanging_indent, curr_width)\u001b[0m\n\u001b[1;32m    824\u001b[0m             \u001b[0;32mfor\u001b[0m \u001b[0mi\u001b[0m \u001b[0;32min\u001b[0m \u001b[0mrange\u001b[0m\u001b[0;34m(\u001b[0m\u001b[0mtrailing_items\u001b[0m\u001b[0;34m,\u001b[0m \u001b[0;36m1\u001b[0m\u001b[0;34m,\u001b[0m \u001b[0;34m-\u001b[0m\u001b[0;36m1\u001b[0m\u001b[0;34m)\u001b[0m\u001b[0;34m:\u001b[0m\u001b[0;34m\u001b[0m\u001b[0;34m\u001b[0m\u001b[0m\n\u001b[1;32m    825\u001b[0m                 nested = recurser(index + (-i,), next_hanging_indent,\n\u001b[0;32m--> 826\u001b[0;31m                                   next_width)\n\u001b[0m\u001b[1;32m    827\u001b[0m                 \u001b[0ms\u001b[0m \u001b[0;34m+=\u001b[0m \u001b[0mhanging_indent\u001b[0m \u001b[0;34m+\u001b[0m \u001b[0mnested\u001b[0m \u001b[0;34m+\u001b[0m \u001b[0mline_sep\u001b[0m\u001b[0;34m\u001b[0m\u001b[0;34m\u001b[0m\u001b[0m\n\u001b[1;32m    828\u001b[0m \u001b[0;34m\u001b[0m\u001b[0m\n",
      "\u001b[0;32m~/scienv/lib/python3.7/site-packages/numpy/core/arrayprint.py\u001b[0m in \u001b[0;36mrecurser\u001b[0;34m(index, hanging_indent, curr_width)\u001b[0m\n\u001b[1;32m    794\u001b[0m                 \u001b[0mword\u001b[0m \u001b[0;34m=\u001b[0m \u001b[0mrecurser\u001b[0m\u001b[0;34m(\u001b[0m\u001b[0mindex\u001b[0m \u001b[0;34m+\u001b[0m \u001b[0;34m(\u001b[0m\u001b[0;34m-\u001b[0m\u001b[0mi\u001b[0m\u001b[0;34m,\u001b[0m\u001b[0;34m)\u001b[0m\u001b[0;34m,\u001b[0m \u001b[0mnext_hanging_indent\u001b[0m\u001b[0;34m,\u001b[0m \u001b[0mnext_width\u001b[0m\u001b[0;34m)\u001b[0m\u001b[0;34m\u001b[0m\u001b[0;34m\u001b[0m\u001b[0m\n\u001b[1;32m    795\u001b[0m                 s, line = _extendLine(\n\u001b[0;32m--> 796\u001b[0;31m                     s, line, word, elem_width, hanging_indent, legacy)\n\u001b[0m\u001b[1;32m    797\u001b[0m                 \u001b[0mline\u001b[0m \u001b[0;34m+=\u001b[0m \u001b[0mseparator\u001b[0m\u001b[0;34m\u001b[0m\u001b[0;34m\u001b[0m\u001b[0m\n\u001b[1;32m    798\u001b[0m \u001b[0;34m\u001b[0m\u001b[0m\n",
      "\u001b[0;32m~/scienv/lib/python3.7/site-packages/numpy/core/arrayprint.py\u001b[0m in \u001b[0;36m_extendLine\u001b[0;34m(s, line, word, line_width, next_line_prefix, legacy)\u001b[0m\n\u001b[1;32m    715\u001b[0m \u001b[0;32mdef\u001b[0m \u001b[0m_extendLine\u001b[0m\u001b[0;34m(\u001b[0m\u001b[0ms\u001b[0m\u001b[0;34m,\u001b[0m \u001b[0mline\u001b[0m\u001b[0;34m,\u001b[0m \u001b[0mword\u001b[0m\u001b[0;34m,\u001b[0m \u001b[0mline_width\u001b[0m\u001b[0;34m,\u001b[0m \u001b[0mnext_line_prefix\u001b[0m\u001b[0;34m,\u001b[0m \u001b[0mlegacy\u001b[0m\u001b[0;34m)\u001b[0m\u001b[0;34m:\u001b[0m\u001b[0;34m\u001b[0m\u001b[0;34m\u001b[0m\u001b[0m\n\u001b[1;32m    716\u001b[0m     \u001b[0mneeds_wrap\u001b[0m \u001b[0;34m=\u001b[0m \u001b[0mlen\u001b[0m\u001b[0;34m(\u001b[0m\u001b[0mline\u001b[0m\u001b[0;34m)\u001b[0m \u001b[0;34m+\u001b[0m \u001b[0mlen\u001b[0m\u001b[0;34m(\u001b[0m\u001b[0mword\u001b[0m\u001b[0;34m)\u001b[0m \u001b[0;34m>\u001b[0m \u001b[0mline_width\u001b[0m\u001b[0;34m\u001b[0m\u001b[0;34m\u001b[0m\u001b[0m\n\u001b[0;32m--> 717\u001b[0;31m     \u001b[0;32mif\u001b[0m \u001b[0mlegacy\u001b[0m \u001b[0;34m!=\u001b[0m \u001b[0;34m'1.13'\u001b[0m\u001b[0;34m:\u001b[0m\u001b[0;34m\u001b[0m\u001b[0;34m\u001b[0m\u001b[0m\n\u001b[0m\u001b[1;32m    718\u001b[0m         \u001b[0ms\u001b[0m\u001b[0;31m# don't wrap lines if it won't help\u001b[0m\u001b[0;34m\u001b[0m\u001b[0;34m\u001b[0m\u001b[0m\n\u001b[1;32m    719\u001b[0m         \u001b[0;32mif\u001b[0m \u001b[0mlen\u001b[0m\u001b[0;34m(\u001b[0m\u001b[0mline\u001b[0m\u001b[0;34m)\u001b[0m \u001b[0;34m<=\u001b[0m \u001b[0mlen\u001b[0m\u001b[0;34m(\u001b[0m\u001b[0mnext_line_prefix\u001b[0m\u001b[0;34m)\u001b[0m\u001b[0;34m:\u001b[0m\u001b[0;34m\u001b[0m\u001b[0;34m\u001b[0m\u001b[0m\n",
      "\u001b[0;31mKeyboardInterrupt\u001b[0m: "
     ]
    }
   ],
   "source": [
    "solver = shelfsolver.ShelfSolver()\n",
    "shelfgen = shelfsolver.ShelfGenerator()\n",
    "depths = []\n",
    "n_tries = 600\n",
    "for i in range(n_tries):\n",
    "    if i%50==0:\n",
    "        print('\\n\\n== Step {} =='.format(i))\n",
    "        print('Successful runs so far:', len(depths))\n",
    "        with open('collected_depths/task3.pickle', 'wb') as handle:\n",
    "            pickle.dump(depths, handle, protocol=pickle.HIGHEST_PROTOCOL)\n",
    "    shelf = shelfgen.new_random_shelf()\n",
    "    results = solver.solve_task(shelf, task=3, search_type=\"stack\", collect=True)\n",
    "    if results:\n",
    "        depths.append(results)"
   ]
  }
 ],
 "metadata": {
  "kernelspec": {
   "display_name": "Python 3",
   "language": "python",
   "name": "python3"
  },
  "language_info": {
   "codemirror_mode": {
    "name": "ipython",
    "version": 3
   },
   "file_extension": ".py",
   "mimetype": "text/x-python",
   "name": "python",
   "nbconvert_exporter": "python",
   "pygments_lexer": "ipython3",
   "version": "3.7.5"
  }
 },
 "nbformat": 4,
 "nbformat_minor": 4
}
